{
 "cells": [
  {
   "cell_type": "code",
   "execution_count": null,
   "metadata": {
    "collapsed": false
   },
   "outputs": [
    {
     "name": "stdout",
     "output_type": "stream",
     "text": [
      "/usr/local/anaconda/bin/propka31 /mnt/Tsunami_HHD/Tang/remove_problem_muscle_alignment_pdb/4b1e.pdb\n",
      "/usr/local/anaconda/bin/propka31 /mnt/Tsunami_HHD/Tang/remove_problem_muscle_alignment_pdb/4b1d.pdb\n"
     ]
    }
   ],
   "source": [
    "import os\n",
    "import csv\n",
    "import MDAnalysis\n",
    "import subprocess\n",
    "import Bio.PDB\n",
    "import pandas as pd\n",
    "import numpy as np\n",
    "import MDAnalysis.analysis.hbonds\n",
    "#pKa\n",
    "# parse the pka files\n",
    "propka31Path = '/usr/local/anaconda/bin/propka31'\n",
    "inputpath = '/mnt/Tsunami_HHD/Tang/remove_problem_muscle_alignment_pdb'\n",
    "path = os.path.join(inputpath,'pKa')\n",
    "path_csv = os.path.join(inputpath,'pKa/csv')\n",
    "try:\n",
    "    os.mkdir(path)\n",
    "except:\n",
    "    pass\n",
    "try:\n",
    "    os.mkdir(path_csv)\n",
    "except:\n",
    "    pass\n",
    "os.chdir(path)\n",
    "for inputfile in os.listdir(inputpath):\n",
    "    if inputfile[-3:] == 'pdb':\n",
    "        command = '{propka31Path} {inputfile}'.format(propka31Path=propka31Path,inputfile=os.path.join(inputpath,inputfile))\n",
    "        print command\n",
    "        subprocess.call(command,shell=True)\n",
    "files = os.listdir(path)\n",
    "for onefile in files:\n",
    "    if onefile[-3:] == 'pka':\n",
    "        with open(os.path.join(path,onefile), 'r') as pKafile:\n",
    "            full_data = pKafile.readlines()\n",
    "        \n",
    "        with open(os.path.join(path_csv,onefile[:-4]+'_pka.csv'), 'wb') as output_file:\n",
    "            output_file_csv = csv.writer(output_file)\n",
    "        \n",
    "            for index, current_line in enumerate(full_data):\n",
    "                if current_line[0:12] == '       Group':\n",
    "                    starting_index = index\n",
    "                    break\n",
    "        \n",
    "            for current_line in full_data[starting_index+1:]:\n",
    "        \n",
    "                if current_line[0] == '-':\n",
    "                    break\n",
    "        \n",
    "                parsed_line = current_line.strip().split()\n",
    "        \n",
    "                if parsed_line[0] == 'C-' or parsed_line[0] == 'N+':\n",
    "                    continue\n",
    "                #print [parsed_line[0], parsed_line[1], parsed_line[3], parsed_line[4], str(float(parsed_line[3]) - float(parsed_line[4]))]\n",
    "                #output_file_csv.writerow([parsed_line[0], parsed_line[1], parsed_line[3], parsed_line[4], str(float(parsed_line[3]) - float(parsed_line[4]))])\n",
    "                if parsed_line[0] in [\"ALA\",\"CYS\",\"ASP\",\"GLU\",\"PHE\",\"GLY\",\"HIS\",\"ILE\",\"LYS\",\"LEU\",\"MET\",\"ASN\",\"PRO\",\"GLN\",\"ARG\",\"SER\",\"THR\",\"VAL\",\"TRP\",\"TYR\"]:\n",
    "                    output_file_csv.writerow([parsed_line[1], parsed_line[3]])\n",
    "            \n",
    "            "
   ]
  },
  {
   "cell_type": "code",
   "execution_count": 2,
   "metadata": {
    "collapsed": false
   },
   "outputs": [
    {
     "name": "stdout",
     "output_type": "stream",
     "text": [
      "/usr/local/anaconda/bin/propka31 5enk.pdb\n"
     ]
    },
    {
     "data": {
      "text/plain": [
       "1"
      ]
     },
     "execution_count": 2,
     "metadata": {},
     "output_type": "execute_result"
    }
   ],
   "source": [
    "import os\n",
    "import csv\n",
    "import MDAnalysis\n",
    "import subprocess\n",
    "import Bio.PDB\n",
    "import pandas as pd\n",
    "import numpy as np\n",
    "import MDAnalysis.analysis.hbonds\n",
    "#pKa\n",
    "# parse the pka files\n",
    "propka31Path = '/usr/local/anaconda/bin/propka31'\n",
    "inputpath = '/mnt/Tsunami_HHD/Tang/remove_problem_muscle_alignment_pdb'\n",
    "path = os.path.join(inputpath,'pKa')\n",
    "path_csv = os.path.join(inputpath,'pKa/csv')\n",
    "\n",
    "command = '{propka31Path} 5enk.pdb'.format(propka31Path=propka31Path)\n",
    "print command\n",
    "subprocess.call(command,shell=True)"
   ]
  },
  {
   "cell_type": "code",
   "execution_count": null,
   "metadata": {
    "collapsed": true
   },
   "outputs": [],
   "source": [
    "onefile = '5enk.pdb'        \n",
    "    with open(os.path.join(path,onefile), 'r') as pKafile:\n",
    "            full_data = pKafile.readlines()\n",
    "        \n",
    "        with open(os.path.join(path_csv,onefile[:-4]+'_pka.csv'), 'wb') as output_file:\n",
    "            output_file_csv = csv.writer(output_file)\n",
    "        \n",
    "            for index, current_line in enumerate(full_data):\n",
    "                if current_line[0:12] == '       Group':\n",
    "                    starting_index = index\n",
    "                    break\n",
    "        \n",
    "            for current_line in full_data[starting_index+1:]:\n",
    "        \n",
    "                if current_line[0] == '-':\n",
    "                    break\n",
    "        \n",
    "                parsed_line = current_line.strip().split()\n",
    "        \n",
    "                if parsed_line[0] == 'C-' or parsed_line[0] == 'N+':\n",
    "                    continue\n",
    "                #print [parsed_line[0], parsed_line[1], parsed_line[3], parsed_line[4], str(float(parsed_line[3]) - float(parsed_line[4]))]\n",
    "                #output_file_csv.writerow([parsed_line[0], parsed_line[1], parsed_line[3], parsed_line[4], str(float(parsed_line[3]) - float(parsed_line[4]))])\n",
    "                if parsed_line[0] in [\"ALA\",\"CYS\",\"ASP\",\"GLU\",\"PHE\",\"GLY\",\"HIS\",\"ILE\",\"LYS\",\"LEU\",\"MET\",\"ASN\",\"PRO\",\"GLN\",\"ARG\",\"SER\",\"THR\",\"VAL\",\"TRP\",\"TYR\"]:\n",
    "                    output_file_csv.writerow([parsed_line[1], parsed_line[3]])"
   ]
  }
 ],
 "metadata": {
  "kernelspec": {
   "display_name": "Python 2",
   "language": "python",
   "name": "python2"
  },
  "language_info": {
   "codemirror_mode": {
    "name": "ipython",
    "version": 2
   },
   "file_extension": ".py",
   "mimetype": "text/x-python",
   "name": "python",
   "nbconvert_exporter": "python",
   "pygments_lexer": "ipython2",
   "version": "2.7.11"
  }
 },
 "nbformat": 4,
 "nbformat_minor": 0
}
