{
 "cells": [
  {
   "cell_type": "code",
   "execution_count": 1,
   "metadata": {
    "collapsed": false
   },
   "outputs": [
    {
     "name": "stderr",
     "output_type": "stream",
     "text": [
      "/usr/local/anaconda/lib/python2.7/site-packages/IPython/core/interactiveshell.py:2723: DtypeWarning: Columns (1,2,3,4,5,6,7,8,9,10,11,12,13,14,15,16,17,18,19,20,21,22,23,24,25,26,27,28,29,30,31,32,33,34,35,36,37,38,39,40,41,42,43,44) have mixed types. Specify dtype option on import or set low_memory=False.\n",
      "  interactivity=interactivity, compiler=compiler, result=result)\n"
     ]
    }
   ],
   "source": [
    "import pandas as pd\n",
    "\n",
    "all = pd.read_csv('/mnt/Tsunami_HHD/Tang/all_feature_data/all_clusters_all_features_add_clusterID_add_cluster_2.csv')"
   ]
  },
  {
   "cell_type": "code",
   "execution_count": 2,
   "metadata": {
    "collapsed": true
   },
   "outputs": [],
   "source": [
    "path = '/mnt/Tsunami_HHD/Tang/all_feature_data/all_clusters_all_features_add_clusterID_add_cluster_2.csv'\n",
    "with open(path,'r') as f:\n",
    "    lines = f.readlines()\n",
    "\n",
    "\n",
    "header = lines[0]\n",
    "\n",
    "new_lines = [line for line in lines if not line == lines[0]]\n",
    "\n",
    "\n",
    "new_lines.insert(0,header)\n",
    "\n",
    "text = ''.join(new_lines)\n",
    "\n",
    "with open('/mnt/Tsunami_HHD/Tang/all_feature_data/all_clusters_all_features_add_clusterID_add_cluster_2_new.csv','w') as r:\n",
    "    r.write(text)"
   ]
  }
 ],
 "metadata": {
  "kernelspec": {
   "display_name": "Python 2",
   "language": "python",
   "name": "python2"
  },
  "language_info": {
   "codemirror_mode": {
    "name": "ipython",
    "version": 2
   },
   "file_extension": ".py",
   "mimetype": "text/x-python",
   "name": "python",
   "nbconvert_exporter": "python",
   "pygments_lexer": "ipython2",
   "version": "2.7.11"
  }
 },
 "nbformat": 4,
 "nbformat_minor": 0
}
