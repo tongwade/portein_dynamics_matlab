{
 "cells": [
  {
   "cell_type": "code",
   "execution_count": 2,
   "metadata": {
    "collapsed": false
   },
   "outputs": [],
   "source": [
    "\n",
    "import os\n",
    "import csv\n",
    "import MDAnalysis\n",
    "import subprocess\n",
    "import Bio.PDB\n",
    "import pandas as pd\n",
    "import numpy as np\n",
    "import MDAnalysis.analysis.hbonds\n",
    "# Naccess for SASA      \n",
    "# before parse, deal with the pdb files \n",
    "path = '/home/tongwade780/test_837_cluster'\n",
    "outputpath = '/home/tongwade780/test_837_cluster/Naccess_SASA'\n",
    "files = os.listdir(path)\n",
    "os.chdir(outputpath)\n",
    "\n",
    "for onefile in files: \n",
    "    if onefile[-3:] == 'pdb': \n",
    "        with open(os.path.join(path,onefile),'r') as filetest:\n",
    "            data = filetest.readlines()\n",
    "        nonNMR = True\n",
    "        for line in data:\n",
    "            if len(line.strip().split()) == 3 and line.strip().split()[-1] == 'NMR':\n",
    "                NMRfile_MD = MDAnalysis.Universe(os.path.join(path,onefile))\n",
    "                allatom = NMRfile_MD.select_atoms(\"all\")\n",
    "                with MDAnalysis.Writer(path+onefile[:-4]+\"_1.pdb\", allatom.n_atoms) as W:\n",
    "                    W.write(allatom)\n",
    "                subprocess.call([\"/opt/Naccess/naccess\",os.path.join(path,onefile[:-4]+\"_1.pdb\")])\n",
    "                nonNMR = False\n",
    "        if nonNMR and onefile[-6:]!=\"_1.pdb\": \n",
    "            subprocess.call([\"/opt/Naccess/naccess\",os.path.join(path,onefile[:-4]+\".pdb\")])               \n",
    "\n",
    "# parse the res files to get the properties of residues \n",
    "path ='/home/tongwade780/test_837_cluster/Naccess_SASA'\n",
    "path_csv = '/home/tongwade780/test_837_cluster/Naccess_SASA/csv'\n",
    "files = os.listdir(path)\n",
    "for onefile in files:\n",
    "    if onefile[-3:] == 'rsa':\n",
    "        with open(os.path.join(path,onefile), 'r') as naccessData:\n",
    "            full_data = naccessData.readlines()\n",
    "            \n",
    "        with open(os.path.join(path_csv,onefile[:-4]+'_sasa.csv'), 'wb') as output_file:\n",
    "            output_file_csv = csv.writer(output_file)\n",
    "            \n",
    "            for current_line in full_data:\n",
    "                if current_line[0:3] == 'RES':\n",
    "                    parsed_line = current_line[10:].strip().split()\n",
    "                    if current_line[4:7] in [\"ALA\",\"CYS\",\"ASP\",\"GLU\",\"PHE\",\"GLY\",\"HIS\",\"ILE\",\"LYS\",\"LEU\",\"MET\",\"ASN\",\"PRO\",\"GLN\",\"ARG\",\"SER\",\"THR\",\"VAL\",\"TRP\",\"TYR\"]:\n",
    "                        output_file_csv.writerow([parsed_line[0], parsed_line[2]])"
   ]
  },
  {
   "cell_type": "code",
   "execution_count": null,
   "metadata": {
    "collapsed": true
   },
   "outputs": [],
   "source": []
  }
 ],
 "metadata": {
  "kernelspec": {
   "display_name": "Python 2",
   "language": "python",
   "name": "python2"
  },
  "language_info": {
   "codemirror_mode": {
    "name": "ipython",
    "version": 2
   },
   "file_extension": ".py",
   "mimetype": "text/x-python",
   "name": "python",
   "nbconvert_exporter": "python",
   "pygments_lexer": "ipython2",
   "version": "2.7.11"
  }
 },
 "nbformat": 4,
 "nbformat_minor": 0
}
