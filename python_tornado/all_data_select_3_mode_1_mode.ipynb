{
 "cells": [
  {
   "cell_type": "code",
   "execution_count": 1,
   "metadata": {
    "collapsed": false
   },
   "outputs": [
    {
     "name": "stderr",
     "output_type": "stream",
     "text": [
      "/usr/local/anaconda/lib/python2.7/site-packages/IPython/core/interactiveshell.py:2723: DtypeWarning: Columns (1,2,3,4,5,6,7,8,9,10,11,12,13,14,15,16,17,18,19,20,21,22,23,24,25,26,27,28,29,30,31,32,33,34,35,36,37,38,39,40,41,42,43,44) have mixed types. Specify dtype option on import or set low_memory=False.\n",
      "  interactivity=interactivity, compiler=compiler, result=result)\n"
     ]
    }
   ],
   "source": [
    "import pandas as pd\n",
    "\n",
    "all = pd.read_csv('/mnt/Tsunami_HHD/Tang/all_feature_data/all_clusters_all_features_add_clusterID_add_cluster_2.csv')"
   ]
  },
  {
   "cell_type": "code",
   "execution_count": 2,
   "metadata": {
    "collapsed": true
   },
   "outputs": [],
   "source": [
    "#select pca 3 mode\n",
    "pdbname_file = open ('/home/tongwade780/pdb_website/all_ca_number_all_code/onechain_100clust.csv').readlines ()\n",
    "next_file = []\n",
    "\n",
    "for line in pdbname_file[1673:]:\n",
    "    next_file.extend(line.strip().split(','))\n",
    "\n",
    "import pandas as pd\n",
    "\n",
    "next_file_new = filter(None, next_file)\n",
    "\n",
    "next_file_new = map(lambda x: x[0:4].lower(),next_file_new)\n",
    "\n",
    "pdbname_file = open ('/home/tongwade780/pdb_website/python_code/all_cluster_problem_pdb_add_feature/pca_3_mode_pdb_name_new.csv').readlines ()\n",
    "next_file = []\n",
    "\n",
    "for line in pdbname_file[0:]:\n",
    "    next_file.append(line.rstrip('\\r\\n')[0:4].lower())\n",
    "\n",
    "next_file.extend(next_file_new)"
   ]
  },
  {
   "cell_type": "code",
   "execution_count": 3,
   "metadata": {
    "collapsed": true
   },
   "outputs": [],
   "source": [
    "all_new = all[all.PDB_ID.isin(next_file)]"
   ]
  },
  {
   "cell_type": "code",
   "execution_count": 5,
   "metadata": {
    "collapsed": false
   },
   "outputs": [],
   "source": [
    "all_new.to_csv('/mnt/Tsunami_HHD/Tang/all_feature_data/all_clusters_all_features_add_clusterID_select_3_mode.csv',index= False)"
   ]
  },
  {
   "cell_type": "code",
   "execution_count": 6,
   "metadata": {
    "collapsed": true
   },
   "outputs": [],
   "source": [
    "#find one mode\n",
    "pdbname_file = open ('/home/tongwade780/pdb_website/python_code/close_meancoord_pdb_add_feature.csv').readlines ()\n",
    "\n",
    "next_file = []\n",
    "\n",
    "for line in pdbname_file[0:]:\n",
    "    next_file.append(line.rstrip('\\r\\n')[0:4].lower())\n",
    "\n",
    "next_file\n",
    "\n",
    "all_new_one = all[all.PDB_ID.isin(next_file)]\n",
    "\n",
    "all_new_one.to_csv('/mnt/Tsunami_HHD/Tang/all_feature_data/all_clusters_all_features_add_clusterID_select_1_mode.csv',index= False)"
   ]
  }
 ],
 "metadata": {
  "kernelspec": {
   "display_name": "Python 2",
   "language": "python",
   "name": "python2"
  },
  "language_info": {
   "codemirror_mode": {
    "name": "ipython",
    "version": 2
   },
   "file_extension": ".py",
   "mimetype": "text/x-python",
   "name": "python",
   "nbconvert_exporter": "python",
   "pygments_lexer": "ipython2",
   "version": "2.7.11"
  }
 },
 "nbformat": 4,
 "nbformat_minor": 0
}
