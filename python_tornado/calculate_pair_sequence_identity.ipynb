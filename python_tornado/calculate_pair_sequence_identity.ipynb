{
 "cells": [
  {
   "cell_type": "code",
   "execution_count": 1,
   "metadata": {
    "collapsed": true
   },
   "outputs": [],
   "source": [
    "#!/usr/bin/env python\n",
    "\n",
    "from __future__ import print_function, division\n",
    "\n",
    "from operator import itemgetter\n",
    "import os\n",
    "import sys\n",
    "import tempfile\n",
    "import warnings\n",
    "\n",
    "try:\n",
    "    from Bio import pairwise2\n",
    "    from Bio.SubsMat import MatrixInfo as matlist\n",
    "except ImportError as exception:\n",
    "    print(\"[!] Could not import Biopython modules\", file=sys.stderr)\n",
    "    raise exception\n",
    "\n",
    "#\n",
    "def align_sequences(sequence_A, sequence_B, **kwargs):\n",
    "    \"\"\"\n",
    "    Performs a global pairwise alignment between two sequences\n",
    "    using the BLOSUM62 matrix and the Needleman-Wunsch algorithm\n",
    "    as implemented in Biopython. Returns the alignment, the sequence\n",
    "    identity and the residue mapping between both original sequences.\n",
    "    \"\"\"\n",
    "\n",
    "    def _calculate_identity(sequenceA, sequenceB):\n",
    "        \"\"\"\n",
    "        Returns the percentage of identical characters between two sequences.\n",
    "        Assumes the sequences are aligned.\n",
    "        \"\"\"\n",
    "\n",
    "        sa, sb, sl = sequenceA, sequenceB, len(sequenceA)\n",
    "        matches = [sa[i] == sb[i] for i in xrange(sl)]\n",
    "        seq_id = (100 * sum(matches)) / sl\n",
    "\n",
    "        gapless_sl = sum([1 for i in xrange(sl) if (sa[i] != '-' and sb[i] != '-')])\n",
    "        gap_id = (100 * sum(matches)) / gapless_sl\n",
    "        return (seq_id, gap_id)\n",
    "\n",
    "    #\n",
    "    matrix = kwargs.get('matrix', matlist.blosum62)\n",
    "    gap_open = kwargs.get('gap_open', -10.0)\n",
    "    gap_extend = kwargs.get('gap_extend', -0.5)\n",
    "\n",
    "    alns = pairwise2.align.globalds(sequence_A, sequence_B,\n",
    "                                    matrix, gap_open, gap_extend)\n",
    "\n",
    "    best_aln = alns[0]\n",
    "    aligned_A, aligned_B, score, begin, end = best_aln\n",
    "\n",
    "    # Calculate sequence identity\n",
    "    seq_id, g_seq_id = _calculate_identity(aligned_A, aligned_B)\n",
    "    return ((aligned_A, aligned_B), seq_id, g_seq_id)"
   ]
  },
  {
   "cell_type": "code",
   "execution_count": 2,
   "metadata": {
    "collapsed": false
   },
   "outputs": [],
   "source": [
    "import os\n",
    "pdb_file = open('/home/tongwade780/pdb_website/onebyone_cluster_code/representative_pdbname.csv').readlines ()\n",
    "\n",
    "pdbname = []\n",
    "for line in pdb_file:\n",
    "    pdbname.append(line.rstrip('\\r\\n').split(',')[0][0:4].lower())"
   ]
  },
  {
   "cell_type": "code",
   "execution_count": 3,
   "metadata": {
    "collapsed": false
   },
   "outputs": [],
   "source": [
    "sequence_A = 'MQIFVKTLTGKTITLEVEPSDTIENVKAKIQDKEGIPPDQQRLIFAGKQLEDGRTLSDYNIQKESTLHLVLRLRGG'\n",
    "sequence_B = 'AAGSITTLPALPEDGGSGAFPPGHFKDPKRLYCKNGGFFLRIHPDGRVDGVREKSDPHIKLQLQAEERGVVSIKGVSANRYLAMKEDGRLLASKSVTDECFFFERLESNNYNTYRSRKYTSWYVALKRTGQYKLGSKTGPGQKAILFLPMSAKS'\n",
    "\n",
    "((aligned_A, aligned_B), seq_id, g_seq_id) = align_sequences(sequence_A, sequence_B)\n",
    "\n",
    "seq_id"
   ]
  },
  {
   "cell_type": "code",
   "execution_count": 2,
   "metadata": {
    "collapsed": true
   },
   "outputs": [],
   "source": [
    "pdbname = ['1ubq','1bas','3ta8','1azp']"
   ]
  },
  {
   "cell_type": "code",
   "execution_count": 2,
   "metadata": {
    "collapsed": true
   },
   "outputs": [],
   "source": [
    "pdbname = ['5ctl','1kh8','2xjx','1ufp','1ymb','4rvr','3dn0','1xr1','4hy8','4n1m','2qu9','1c7p','1q21','4gr3']"
   ]
  },
  {
   "cell_type": "code",
   "execution_count": 49,
   "metadata": {
    "collapsed": false
   },
   "outputs": [
    {
     "data": {
      "text/plain": [
       "6.481481481481482"
      ]
     },
     "execution_count": 49,
     "metadata": {},
     "output_type": "execute_result"
    }
   ],
   "source": [
    "sequence_A = ''.join(open('/home/tongwade780/pdb_website/onebyone_cluster_code/test_seq_alin/{0}.fasta.txt'.format(pdbname[0])).read().split('\\n')[1:])\n",
    "\n",
    "#sequence_B = ''.join(open('/home/tongwade780/pdb_website/onebyone_cluster_code/test_seq_alin/{0}.fasta.txt'.format(pdbname[2])).read().split('\\n')[1:])\n",
    "\n",
    "b = open('/home/tongwade780/pdb_website/onebyone_cluster_code/test_seq_alin/{0}.fasta.txt'.format(pdbname[3])).read().split('\\n')[1:]\n",
    "sequence_B = ''\n",
    "for line in b:\n",
    "    if line == '':\n",
    "        break\n",
    "    elif line[0] == '>':\n",
    "        break\n",
    "    else:\n",
    "        sequence_B = sequence_B+line\n",
    "((aligned_A, aligned_B), seq_id, g_seq_id) = align_sequences(sequence_A, sequence_B)\n",
    "seq_id"
   ]
  },
  {
   "cell_type": "code",
   "execution_count": null,
   "metadata": {
    "collapsed": false
   },
   "outputs": [
    {
     "name": "stdout",
     "output_type": "stream",
     "text": [
      "0\n"
     ]
    }
   ],
   "source": [
    "import numpy\n",
    "matrix = numpy.zeros((2792,2792))\n",
    "problem_pdb = []\n",
    "row = -1\n",
    "for name1 in pdbname:\n",
    "    row = row+1\n",
    "    print(row)\n",
    "    sequence_A = ''\n",
    "    a = open('/home/tongwade780/pdb_website/onebyone_cluster_code/representative_fasta_sequence/{0}.fasta.txt'.format(name1)).read().split('\\n')[1:]\n",
    "    for line in a:\n",
    "        if line == '':\n",
    "            break\n",
    "        elif line[0] == '>':\n",
    "            break\n",
    "        else:\n",
    "            sequence_A = sequence_A+line    \n",
    "    for colunm in range(row,2792):\n",
    "        name2 = pdbname[colunm]\n",
    "        b = open('/home/tongwade780/pdb_website/onebyone_cluster_code/representative_fasta_sequence/{0}.fasta.txt'.format(name2)).read().split('\\n')[1:]\n",
    "        sequence_B = ''\n",
    "        for line in b:\n",
    "            if line == '':\n",
    "                break\n",
    "            elif line[0] == '>':\n",
    "                break\n",
    "            else:\n",
    "                sequence_B = sequence_B+line\n",
    "\n",
    "        ((aligned_A, aligned_B), seq_id, g_seq_id) = align_sequences(sequence_A, sequence_B)\n",
    "        matrix[row,colunm] = seq_id"
   ]
  },
  {
   "cell_type": "code",
   "execution_count": null,
   "metadata": {
    "collapsed": true
   },
   "outputs": [],
   "source": [
    "matrix"
   ]
  },
  {
   "cell_type": "code",
   "execution_count": 19,
   "metadata": {
    "collapsed": false
   },
   "outputs": [
    {
     "ename": "IndexError",
     "evalue": "string index out of range",
     "output_type": "error",
     "traceback": [
      "\u001b[1;31m---------------------------------------------------------------------------\u001b[0m",
      "\u001b[1;31mIndexError\u001b[0m                                Traceback (most recent call last)",
      "\u001b[1;32m<ipython-input-19-75f17ebd2517>\u001b[0m in \u001b[0;36m<module>\u001b[1;34m()\u001b[0m\n\u001b[0;32m      1\u001b[0m \u001b[0msa\u001b[0m\u001b[1;33m,\u001b[0m \u001b[0msb\u001b[0m\u001b[1;33m,\u001b[0m \u001b[0msl\u001b[0m \u001b[1;33m=\u001b[0m \u001b[0msequence_A\u001b[0m\u001b[1;33m,\u001b[0m \u001b[0msequence_B\u001b[0m\u001b[1;33m,\u001b[0m \u001b[0mlen\u001b[0m\u001b[1;33m(\u001b[0m\u001b[0msequence_A\u001b[0m\u001b[1;33m)\u001b[0m\u001b[1;33m\u001b[0m\u001b[0m\n\u001b[1;32m----> 2\u001b[1;33m \u001b[0mmatches\u001b[0m \u001b[1;33m=\u001b[0m \u001b[1;33m[\u001b[0m\u001b[0msa\u001b[0m\u001b[1;33m[\u001b[0m\u001b[0mi\u001b[0m\u001b[1;33m]\u001b[0m \u001b[1;33m==\u001b[0m \u001b[0msb\u001b[0m\u001b[1;33m[\u001b[0m\u001b[0mi\u001b[0m\u001b[1;33m]\u001b[0m \u001b[1;32mfor\u001b[0m \u001b[0mi\u001b[0m \u001b[1;32min\u001b[0m \u001b[0mxrange\u001b[0m\u001b[1;33m(\u001b[0m\u001b[0msl\u001b[0m\u001b[1;33m)\u001b[0m\u001b[1;33m]\u001b[0m\u001b[1;33m\u001b[0m\u001b[0m\n\u001b[0m\u001b[0;32m      3\u001b[0m \u001b[0mseq_id\u001b[0m \u001b[1;33m=\u001b[0m \u001b[1;33m(\u001b[0m\u001b[1;36m100\u001b[0m \u001b[1;33m*\u001b[0m \u001b[0msum\u001b[0m\u001b[1;33m(\u001b[0m\u001b[0mmatches\u001b[0m\u001b[1;33m)\u001b[0m\u001b[1;33m)\u001b[0m \u001b[1;33m/\u001b[0m \u001b[0msl\u001b[0m\u001b[1;33m\u001b[0m\u001b[0m\n\u001b[0;32m      4\u001b[0m \u001b[1;33m\u001b[0m\u001b[0m\n\u001b[0;32m      5\u001b[0m \u001b[0mgapless_sl\u001b[0m \u001b[1;33m=\u001b[0m \u001b[0msum\u001b[0m\u001b[1;33m(\u001b[0m\u001b[1;33m[\u001b[0m\u001b[1;36m1\u001b[0m \u001b[1;32mfor\u001b[0m \u001b[0mi\u001b[0m \u001b[1;32min\u001b[0m \u001b[0mxrange\u001b[0m\u001b[1;33m(\u001b[0m\u001b[0msl\u001b[0m\u001b[1;33m)\u001b[0m \u001b[1;32mif\u001b[0m \u001b[1;33m(\u001b[0m\u001b[0msa\u001b[0m\u001b[1;33m[\u001b[0m\u001b[0mi\u001b[0m\u001b[1;33m]\u001b[0m \u001b[1;33m!=\u001b[0m \u001b[1;34m'-'\u001b[0m \u001b[1;32mand\u001b[0m \u001b[0msb\u001b[0m\u001b[1;33m[\u001b[0m\u001b[0mi\u001b[0m\u001b[1;33m]\u001b[0m \u001b[1;33m!=\u001b[0m \u001b[1;34m'-'\u001b[0m\u001b[1;33m)\u001b[0m\u001b[1;33m]\u001b[0m\u001b[1;33m)\u001b[0m\u001b[1;33m\u001b[0m\u001b[0m\n",
      "\u001b[1;31mIndexError\u001b[0m: string index out of range"
     ]
    }
   ],
   "source": [
    "sa, sb, sl = sequence_A, sequence_B, len(sequence_A)\n",
    "matches = [sa[i] == sb[i] for i in xrange(sl)]\n",
    "seq_id = (100 * sum(matches)) / sl\n",
    "\n",
    "gapless_sl = sum([1 for i in xrange(sl) if (sa[i] != '-' and sb[i] != '-')])\n",
    "gap_id = (100 * sum(matches)) / gapless_sl"
   ]
  },
  {
   "cell_type": "code",
   "execution_count": 33,
   "metadata": {
    "collapsed": false
   },
   "outputs": [
    {
     "data": {
      "text/plain": [
       "xrange(330)"
      ]
     },
     "execution_count": 33,
     "metadata": {},
     "output_type": "execute_result"
    }
   ],
   "source": [
    "xrange(330)"
   ]
  },
  {
   "cell_type": "code",
   "execution_count": 12,
   "metadata": {
    "collapsed": false
   },
   "outputs": [
    {
     "ename": "SyntaxError",
     "evalue": "invalid syntax (<ipython-input-12-48fc22c3be67>, line 8)",
     "output_type": "error",
     "traceback": [
      "\u001b[1;36m  File \u001b[1;32m\"<ipython-input-12-48fc22c3be67>\"\u001b[1;36m, line \u001b[1;32m8\u001b[0m\n\u001b[1;33m    matrix_data.to_csv(/home/tongwade780/pdb_website/onebyone_cluster_code/MD_14_pdb_identity.csv)\u001b[0m\n\u001b[1;37m                       ^\u001b[0m\n\u001b[1;31mSyntaxError\u001b[0m\u001b[1;31m:\u001b[0m invalid syntax\n"
     ]
    }
   ],
   "source": [
    "import pandas as pd\n",
    "matrix_data=pd.DataFrame(matrix)\n",
    "\n",
    "matrix_data.columns = pdbname\n",
    "\n",
    "matrix_data.index = pdbname\n"
   ]
  },
  {
   "cell_type": "code",
   "execution_count": 14,
   "metadata": {
    "collapsed": false
   },
   "outputs": [],
   "source": [
    "matrix_data.to_csv('/home/tongwade780/pdb_website/onebyone_cluster_code/MD_14_pdb_identity.csv')"
   ]
  },
  {
   "cell_type": "code",
   "execution_count": 15,
   "metadata": {
    "collapsed": false,
    "scrolled": true
   },
   "outputs": [
    {
     "data": {
      "text/plain": [
       "array([[ 1.,  0.,  0.,  0.,  0.,  0.,  0.,  0.,  0.,  0.,  0.,  0.,  0.,\n",
       "         0.],\n",
       "       [ 0.,  1.,  0.,  0.,  0.,  0.,  0.,  0.,  0.,  0.,  0.,  0.,  0.,\n",
       "         0.],\n",
       "       [ 0.,  0.,  1.,  0.,  0.,  0.,  0.,  0.,  0.,  0.,  0.,  0.,  0.,\n",
       "         0.],\n",
       "       [ 0.,  0.,  0.,  1.,  1.,  0.,  0.,  0.,  0.,  0.,  0.,  0.,  0.,\n",
       "         0.],\n",
       "       [ 0.,  0.,  0.,  1.,  1.,  0.,  0.,  0.,  0.,  0.,  0.,  0.,  0.,\n",
       "         0.],\n",
       "       [ 0.,  0.,  0.,  0.,  0.,  1.,  0.,  0.,  0.,  0.,  0.,  0.,  0.,\n",
       "         0.],\n",
       "       [ 0.,  0.,  0.,  0.,  0.,  0.,  1.,  0.,  0.,  0.,  0.,  0.,  0.,\n",
       "         0.],\n",
       "       [ 0.,  0.,  0.,  0.,  0.,  0.,  0.,  1.,  0.,  0.,  0.,  0.,  0.,\n",
       "         0.],\n",
       "       [ 0.,  0.,  0.,  0.,  0.,  0.,  0.,  0.,  1.,  0.,  0.,  0.,  0.,\n",
       "         0.],\n",
       "       [ 0.,  0.,  0.,  0.,  0.,  0.,  0.,  0.,  0.,  1.,  0.,  0.,  0.,\n",
       "         0.],\n",
       "       [ 0.,  0.,  0.,  0.,  0.,  0.,  0.,  0.,  0.,  0.,  1.,  0.,  0.,\n",
       "         0.],\n",
       "       [ 0.,  0.,  0.,  0.,  0.,  0.,  0.,  0.,  0.,  0.,  0.,  1.,  0.,\n",
       "         0.],\n",
       "       [ 0.,  0.,  0.,  0.,  0.,  0.,  0.,  0.,  0.,  0.,  0.,  0.,  1.,\n",
       "         0.],\n",
       "       [ 0.,  0.,  0.,  0.,  0.,  0.,  0.,  0.,  0.,  0.,  0.,  0.,  0.,\n",
       "         1.]])"
      ]
     },
     "execution_count": 15,
     "metadata": {},
     "output_type": "execute_result"
    }
   ],
   "source": [
    "matrix[matrix < 30] = 0\n",
    "\n",
    "matrix[matrix > 30] = 1\n"
   ]
  },
  {
   "cell_type": "code",
   "execution_count": 18,
   "metadata": {
    "collapsed": true
   },
   "outputs": [],
   "source": [
    "matrix_data=pd.DataFrame(matrix)\n",
    "\n",
    "matrix_data.columns = pdbname\n",
    "matrix_data.index = pdbname\n",
    "matrix_data.to_csv('/home/tongwade780/pdb_website/onebyone_cluster_code/MD_14_pdb_like_or_not.csv')"
   ]
  }
 ],
 "metadata": {
  "kernelspec": {
   "display_name": "Python 2",
   "language": "python",
   "name": "python2"
  },
  "language_info": {
   "codemirror_mode": {
    "name": "ipython",
    "version": 2
   },
   "file_extension": ".py",
   "mimetype": "text/x-python",
   "name": "python",
   "nbconvert_exporter": "python",
   "pygments_lexer": "ipython2",
   "version": "2.7.11"
  }
 },
 "nbformat": 4,
 "nbformat_minor": 0
}
