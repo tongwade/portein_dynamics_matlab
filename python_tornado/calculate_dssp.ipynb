{
 "cells": [
  {
   "cell_type": "code",
   "execution_count": 2,
   "metadata": {
    "collapsed": false,
    "scrolled": true
   },
   "outputs": [],
   "source": [
    "import os\n",
    "import csv\n",
    "import MDAnalysis\n",
    "import subprocess\n",
    "import Bio.PDB\n",
    "import pandas as pd\n",
    "import numpy as np\n",
    "import MDAnalysis.analysis.hbonds\n",
    "\n",
    "# Dssp (dssp.exe -i 1crn.pdb -o 1crn.dssp)\n",
    "path = '/home/tongwade780/test_837_cluster'\n",
    "path_csv = '/home/tongwade780/test_837_cluster/dssp/csv'\n",
    "#path = '/home/tongwade780/test_20_datas/test_internal_pdb/residTOinternal_pdb/'\n",
    "#path_csv = '/home/tongwade780/test_20_datas/test_internal_pdb/residTOinternal_pdb/dssp/csv'\n",
    "dssp_exec ='/opt/dssp/dssp'\n",
    "files = os.listdir(path)\n",
    "for onefile in files:\n",
    "    if onefile[-3:] == 'pdb':\n",
    "        #print onefile\n",
    "        idx = pd.IndexSlice\n",
    "        \n",
    "        # Use DSSP to assign secondary structure type to each residue.\n",
    "        pdb_parser = Bio.PDB.PDBParser()\n",
    "        structure = pdb_parser.get_structure('PDB', os.path.join(path,onefile))\n",
    "        model = structure[0]\n",
    "        dssp_results = Bio.PDB.DSSP(model, os.path.join(path,onefile), dssp=dssp_exec)\n",
    "        \n",
    "        Uni = MDAnalysis.Universe(os.path.join(path,onefile))\n",
    "        protein = Uni.select_atoms(\"protein\")\n",
    "        protein_chain = np.unique(protein.segids)[0]\n",
    "        \n",
    "        chain_ID_resid_list = dssp_results.keys()\n",
    "        dssp_results_table = pd.DataFrame(list(dssp_results))\n",
    "        dssp_results_table = dssp_results_table[[0,1,2,3,4,5]]\n",
    "        dssp_results_table.columns = ['DSSP Index', 'Residue Type', 'SS', 'Acc', 'Phi', 'Psi']\n",
    "        dssp_results_table.index = pd.MultiIndex.from_tuples([(chain_ID_resid_list[x][0], chain_ID_resid_list[x][1][1]) for x in range(len(chain_ID_resid_list))])\n",
    "        dssp_results_table = dssp_results_table.reindex()\n",
    "        \n",
    "        # Make sure all helices have negative phi and psi angles, otherwise change them to '-'\n",
    "        helix_only_rows = (dssp_results_table['SS'] == 'H')\n",
    "        helix_only_table = dssp_results_table[helix_only_rows]\n",
    "        first_chain_helix_only = helix_only_table.loc[protein_chain,:]\n",
    "        pos_phi_or_psi_idx = first_chain_helix_only[(first_chain_helix_only['Phi'] >= 0).values + (first_chain_helix_only['Psi'] >= 0).values].index.tolist()\n",
    "        dssp_results_table.loc[idx[protein_chain,pos_phi_or_psi_idx], 'SS'] = '-'\n",
    "        \n",
    "        with open(os.path.join(path_csv,onefile[:-4]+'_dssp.csv'), 'wb') as output_file:\n",
    "            output_file_csv = csv.writer(output_file)\n",
    "            for i in range(len(dssp_results_table['SS'])):\n",
    "                if dssp_results_table['SS'][i] == 'H' or dssp_results_table['SS'][i] == 'I' or dssp_results_table['SS'][i] == 'G':\n",
    "                    output_file_csv.writerow([dssp_results_table[\"DSSP Index\"][i],0.5])\n",
    "                elif dssp_results_table['SS'][i] == 'T' or dssp_results_table['SS'][i] == 'S':\n",
    "                    output_file_csv.writerow([dssp_results_table[\"DSSP Index\"][i],1])\n",
    "                elif dssp_results_table['SS'][i] == 'B' or dssp_results_table['SS'][i] == 'E':\n",
    "                    output_file_csv.writerow([dssp_results_table[\"DSSP Index\"][i],0])\n",
    "                else:\n",
    "                    output_file_csv.writerow([dssp_results_table[\"DSSP Index\"][i],0])\n",
    "                "
   ]
  },
  {
   "cell_type": "code",
   "execution_count": null,
   "metadata": {
    "collapsed": true
   },
   "outputs": [],
   "source": []
  }
 ],
 "metadata": {
  "kernelspec": {
   "display_name": "Python 2",
   "language": "python",
   "name": "python2"
  },
  "language_info": {
   "codemirror_mode": {
    "name": "ipython",
    "version": 2
   },
   "file_extension": ".py",
   "mimetype": "text/x-python",
   "name": "python",
   "nbconvert_exporter": "python",
   "pygments_lexer": "ipython2",
   "version": "2.7.11"
  }
 },
 "nbformat": 4,
 "nbformat_minor": 0
}
