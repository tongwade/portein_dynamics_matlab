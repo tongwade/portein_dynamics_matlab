{
 "cells": [
  {
   "cell_type": "code",
   "execution_count": 3,
   "metadata": {
    "collapsed": true
   },
   "outputs": [],
   "source": [
    "#!/usr/bin/env python\n",
    "\n",
    "from __future__ import print_function, division\n",
    "\n",
    "from operator import itemgetter\n",
    "import os\n",
    "import sys\n",
    "import tempfile\n",
    "import warnings\n",
    "\n",
    "try:\n",
    "    from Bio import pairwise2\n",
    "    from Bio.SubsMat import MatrixInfo as matlist\n",
    "except ImportError as exception:\n",
    "    print(\"[!] Could not import Biopython modules\", file=sys.stderr)\n",
    "    raise exception\n",
    "\n",
    "#\n",
    "def align_sequences(sequence_A, sequence_B, **kwargs):\n",
    "    \"\"\"\n",
    "    Performs a global pairwise alignment between two sequences\n",
    "    using the BLOSUM62 matrix and the Needleman-Wunsch algorithm\n",
    "    as implemented in Biopython. Returns the alignment, the sequence\n",
    "    identity and the residue mapping between both original sequences.\n",
    "    \"\"\"\n",
    "\n",
    "    def _calculate_identity(sequenceA, sequenceB):\n",
    "        \"\"\"\n",
    "        Returns the percentage of identical characters between two sequences.\n",
    "        Assumes the sequences are aligned.\n",
    "        \"\"\"\n",
    "\n",
    "        sa, sb, sl = sequenceA, sequenceB, len(sequenceA)\n",
    "        matches = [sa[i] == sb[i] for i in xrange(sl)]\n",
    "        seq_id = (100 * sum(matches)) / sl\n",
    "\n",
    "        gapless_sl = sum([1 for i in xrange(sl) if (sa[i] != '-' and sb[i] != '-')])\n",
    "        gap_id = (100 * sum(matches)) / gapless_sl\n",
    "        return (seq_id, gap_id)\n",
    "\n",
    "    #\n",
    "    matrix = kwargs.get('matrix', matlist.blosum62)\n",
    "    gap_open = kwargs.get('gap_open', -10.0)\n",
    "    gap_extend = kwargs.get('gap_extend', -0.5)\n",
    "\n",
    "    alns = pairwise2.align.globalds(sequence_A, sequence_B,\n",
    "                                    matrix, gap_open, gap_extend)\n",
    "\n",
    "    best_aln = alns[0]\n",
    "    aligned_A, aligned_B, score, begin, end = best_aln\n",
    "\n",
    "    # Calculate sequence identity\n",
    "    seq_id, g_seq_id = _calculate_identity(aligned_A, aligned_B)\n",
    "    return ((aligned_A, aligned_B), seq_id, g_seq_id)"
   ]
  },
  {
   "cell_type": "code",
   "execution_count": 4,
   "metadata": {
    "collapsed": true
   },
   "outputs": [],
   "source": [
    "import os\n",
    "pdb_file = open('/home/tongwade780/pdb_website/onebyone_cluster_code/representative_pdbname.csv').readlines ()\n",
    "\n",
    "pdbname = []\n",
    "for line in pdb_file:\n",
    "    pdbname.append(line.rstrip('\\r\\n').split(',')[0][0:4].lower())"
   ]
  },
  {
   "cell_type": "code",
   "execution_count": null,
   "metadata": {
    "collapsed": false
   },
   "outputs": [
    {
     "name": "stdout",
     "output_type": "stream",
     "text": [
      "0\n"
     ]
    }
   ],
   "source": [
    "import numpy\n",
    "matrix = numpy.zeros((2792,2792))\n",
    "problem_pdb = []\n",
    "row = -1\n",
    "for name1 in pdbname:\n",
    "    row = row+1\n",
    "    print(row)\n",
    "    sequence_A = ''\n",
    "    a = open('/home/tongwade780/pdb_website/onebyone_cluster_code/representative_fasta_sequence/{0}.fasta.txt'.format(name1)).read().split('\\n')[1:]\n",
    "    for line in a:\n",
    "        if line == '':\n",
    "            break\n",
    "        elif line[0] == '>':\n",
    "            break\n",
    "        else:\n",
    "            sequence_A = sequence_A+line    \n",
    "    colunm = -1\n",
    "    for name2 in pdbname:\n",
    "        colunm = colunm+1\n",
    "        b = open('/home/tongwade780/pdb_website/onebyone_cluster_code/representative_fasta_sequence/{0}.fasta.txt'.format(name2)).read().split('\\n')[1:]\n",
    "        sequence_B = ''\n",
    "        for line in b:\n",
    "            if line == '':\n",
    "                break\n",
    "            elif line[0] == '>':\n",
    "                break\n",
    "            else:\n",
    "                sequence_B = sequence_B+line\n",
    "\n",
    "        ((aligned_A, aligned_B), seq_id, g_seq_id) = align_sequences(sequence_A, sequence_B)\n",
    "        matrix[row,colunm] = seq_id\n"
   ]
  },
  {
   "cell_type": "code",
   "execution_count": 6,
   "metadata": {
    "collapsed": false
   },
   "outputs": [
    {
     "data": {
      "text/plain": [
       "1937"
      ]
     },
     "execution_count": 6,
     "metadata": {},
     "output_type": "execute_result"
    }
   ],
   "source": [
    "colunm"
   ]
  },
  {
   "cell_type": "code",
   "execution_count": 14,
   "metadata": {
    "collapsed": false
   },
   "outputs": [],
   "source": [
    "from __future__ import print_function, division\n",
    "\n",
    "from operator import itemgetter\n",
    "import os\n",
    "import sys\n",
    "import tempfile\n",
    "import warnings\n",
    "\n",
    "try:\n",
    "    from Bio import pairwise2\n",
    "    from Bio.SubsMat import MatrixInfo as matlist\n",
    "except ImportError as exception:\n",
    "    print(\"[!] Could not import Biopython modules\", file=sys.stderr)\n",
    "    raise exception\n",
    "    \n",
    "def _calculate_identity(sequenceA, sequenceB):\n",
    "    \"\"\"\n",
    "    Returns the percentage of identical characters between two sequences.\n",
    "    Assumes the sequences are aligned.\n",
    "    \"\"\"\n",
    "\n",
    "    sa, sb, sl = sequenceA, sequenceB, len(sequenceA)\n",
    "    matches = [sa[i] == sb[i] for i in xrange(sl)]\n",
    "    seq_id = (100 * sum(matches)) / sl\n",
    "\n",
    "    gapless_sl = sum([1 for i in xrange(sl) if (sa[i] != '-' and sb[i] != '-')])\n",
    "    gap_id = (100 * sum(matches)) / gapless_sl\n",
    "    return (seq_id, gap_id)"
   ]
  },
  {
   "cell_type": "code",
   "execution_count": 7,
   "metadata": {
    "collapsed": true
   },
   "outputs": [],
   "source": [
    "sequence_A = ''.join(open('/home/tongwade780/pdb_website/onebyone_cluster_code/representative_fasta_sequence/{0}.fasta.txt'.format(name1)).read().split('\\n')[1:])\n",
    "\n",
    "sequence_B = ''.join(open('/home/tongwade780/pdb_website/onebyone_cluster_code/representative_fasta_sequence/{0}.fasta.txt'.format(name2)).read().split('\\n')[1:])"
   ]
  },
  {
   "cell_type": "code",
   "execution_count": 10,
   "metadata": {
    "collapsed": false
   },
   "outputs": [
    {
     "data": {
      "text/plain": [
       "'5k49'"
      ]
     },
     "execution_count": 10,
     "metadata": {},
     "output_type": "execute_result"
    }
   ],
   "source": [
    "name2"
   ]
  },
  {
   "cell_type": "code",
   "execution_count": 79,
   "metadata": {
    "collapsed": false,
    "scrolled": true
   },
   "outputs": [
    {
     "data": {
      "text/plain": [
       "[('MVLSEGEWQLVLHVWAKVEADVAGHGQDILIRLFKSHPETLEKFDRFKHLKTEAEMKASEDLKKHGVTVLTALGAILKKKGHHEAELKPLAQSHATKHKIPIKYLEFISEAIIHVLHSRHPGDFGADAQGAMNKALELFRKDIAAKYKELGYQG',\n",
       "  '-GLSDGEWQQVLNVWGKVEADIAGHGQEVLIRLFTGHPETLEKFDKFKHLKTEAEMKASEDLKKHGTVVLTALGGILKKKGHHEAELKPLAQSHATKHKIPIKYLEFISDAIIHVLHSKHPGDFGADAQGAMTKALELFRNDIAAKYKELGFQG',\n",
       "  704.0,\n",
       "  0,\n",
       "  154),\n",
       " ('MVLSEGEWQLVLHVWAKVEADVAGHGQDILIRLFKSHPETLEKFDRFKHLKTEAEMKASEDLKKHGVTVLTALGAILKKKGHHEAELKPLAQSHATKHKIPIKYLEFISEAIIHVLHSRHPGDFGADAQGAMNKALELFRKDIAAKYKELGYQG',\n",
       "  'G-LSDGEWQQVLNVWGKVEADIAGHGQEVLIRLFTGHPETLEKFDKFKHLKTEAEMKASEDLKKHGTVVLTALGGILKKKGHHEAELKPLAQSHATKHKIPIKYLEFISDAIIHVLHSKHPGDFGADAQGAMTKALELFRNDIAAKYKELGFQG',\n",
       "  704.0,\n",
       "  0,\n",
       "  154)]"
      ]
     },
     "execution_count": 79,
     "metadata": {},
     "output_type": "execute_result"
    }
   ],
   "source": [
    "kwargs = {}\n",
    "\n",
    "matrix = kwargs.get('matrix', matlist.blosum62)\n",
    "gap_open = kwargs.get('gap_open', -10.0)\n",
    "gap_extend = kwargs.get('gap_extend', -0.5)\n",
    "\n",
    "alns = pairwise2.align.globalds(sequence_A, sequence_B,\n",
    "                                matrix, gap_open, gap_extend)         \n",
    "alns"
   ]
  },
  {
   "cell_type": "code",
   "execution_count": 80,
   "metadata": {
    "collapsed": false
   },
   "outputs": [
    {
     "data": {
      "text/plain": [
       "87.01298701298701"
      ]
     },
     "execution_count": 80,
     "metadata": {},
     "output_type": "execute_result"
    }
   ],
   "source": [
    "best_aln = alns[0]\n",
    "aligned_A, aligned_B, score, begin, end = best_aln\n",
    "\n",
    "# Calculate sequence identity\n",
    "seq_id, g_seq_id = _calculate_identity(aligned_A, aligned_B)\n",
    "seq_id"
   ]
  },
  {
   "cell_type": "code",
   "execution_count": 11,
   "metadata": {
    "collapsed": false
   },
   "outputs": [
    {
     "ename": "IndexError",
     "evalue": "list index out of range",
     "output_type": "error",
     "traceback": [
      "\u001b[1;31m---------------------------------------------------------------------------\u001b[0m",
      "\u001b[1;31mIndexError\u001b[0m                                Traceback (most recent call last)",
      "\u001b[1;32m<ipython-input-11-0528438319a4>\u001b[0m in \u001b[0;36m<module>\u001b[1;34m()\u001b[0m\n\u001b[1;32m----> 1\u001b[1;33m \u001b[1;33m(\u001b[0m\u001b[1;33m(\u001b[0m\u001b[0maligned_A\u001b[0m\u001b[1;33m,\u001b[0m \u001b[0maligned_B\u001b[0m\u001b[1;33m)\u001b[0m\u001b[1;33m,\u001b[0m \u001b[0mseq_id\u001b[0m\u001b[1;33m,\u001b[0m \u001b[0mg_seq_id\u001b[0m\u001b[1;33m)\u001b[0m \u001b[1;33m=\u001b[0m \u001b[0malign_sequences\u001b[0m\u001b[1;33m(\u001b[0m\u001b[0msequence_A\u001b[0m\u001b[1;33m,\u001b[0m \u001b[0msequence_B\u001b[0m\u001b[1;33m)\u001b[0m\u001b[1;33m\u001b[0m\u001b[0m\n\u001b[0m",
      "\u001b[1;32m<ipython-input-1-cbbdc0da4cd6>\u001b[0m in \u001b[0;36malign_sequences\u001b[1;34m(sequence_A, sequence_B, **kwargs)\u001b[0m\n\u001b[0;32m     48\u001b[0m                                     penalize_end_gaps=(False, False) )\n\u001b[0;32m     49\u001b[0m \u001b[1;33m\u001b[0m\u001b[0m\n\u001b[1;32m---> 50\u001b[1;33m     \u001b[0mbest_aln\u001b[0m \u001b[1;33m=\u001b[0m \u001b[0malns\u001b[0m\u001b[1;33m[\u001b[0m\u001b[1;36m0\u001b[0m\u001b[1;33m]\u001b[0m\u001b[1;33m\u001b[0m\u001b[0m\n\u001b[0m\u001b[0;32m     51\u001b[0m     \u001b[0maligned_A\u001b[0m\u001b[1;33m,\u001b[0m \u001b[0maligned_B\u001b[0m\u001b[1;33m,\u001b[0m \u001b[0mscore\u001b[0m\u001b[1;33m,\u001b[0m \u001b[0mbegin\u001b[0m\u001b[1;33m,\u001b[0m \u001b[0mend\u001b[0m \u001b[1;33m=\u001b[0m \u001b[0mbest_aln\u001b[0m\u001b[1;33m\u001b[0m\u001b[0m\n\u001b[0;32m     52\u001b[0m \u001b[1;33m\u001b[0m\u001b[0m\n",
      "\u001b[1;31mIndexError\u001b[0m: list index out of range"
     ]
    }
   ],
   "source": [
    "((aligned_A, aligned_B), seq_id, g_seq_id) = align_sequences(sequence_A, sequence_B)"
   ]
  }
 ],
 "metadata": {
  "kernelspec": {
   "display_name": "Python 2",
   "language": "python",
   "name": "python2"
  },
  "language_info": {
   "codemirror_mode": {
    "name": "ipython",
    "version": 2
   },
   "file_extension": ".py",
   "mimetype": "text/x-python",
   "name": "python",
   "nbconvert_exporter": "python",
   "pygments_lexer": "ipython2",
   "version": "2.7.11"
  }
 },
 "nbformat": 4,
 "nbformat_minor": 0
}
