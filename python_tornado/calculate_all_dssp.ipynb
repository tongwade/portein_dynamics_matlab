{
 "cells": [
  {
   "cell_type": "code",
   "execution_count": null,
   "metadata": {
    "collapsed": false
   },
   "outputs": [],
   "source": [
    "import os\n",
    "import csv\n",
    "import MDAnalysis\n",
    "import subprocess\n",
    "import Bio.PDB\n",
    "import pandas as pd\n",
    "import numpy as np\n",
    "import MDAnalysis.analysis.hbonds\n",
    "\n",
    "# Dssp (dssp.exe -i 1crn.pdb -o 1crn.dssp)\n",
    "path = '/mnt/Tsunami_HHD/Tang/remove_problem_muscle_alignment_pdb'\n",
    "path_csv = '/mnt/Tsunami_HHD/Tang/remove_problem_muscle_alignment_pdb/dssp/csv'\n",
    "#path = '/home/tongwade780/test_20_datas/test_internal_pdb/residTOinternal_pdb/'\n",
    "#path_csv = '/home/tongwade780/test_20_datas/test_internal_pdb/residTOinternal_pdb/dssp/csv'\n",
    "dssp_exec ='/opt/dssp/dssp'\n",
    "files = os.listdir(path)\n",
    "\n",
    "with open(os.path.join('/mnt/Tsunami_HHD/Tang/','cannot_dssp_pdb.text'), 'wb') as record_file:\n",
    "    \n",
    "    for onefile in files:\n",
    "        if onefile[-3:] == 'pdb':\n",
    "            #print onefile\n",
    "            idx = pd.IndexSlice\n",
    "\n",
    "            # Use DSSP to assign secondary structure type to each residue.\n",
    "            pdb_parser = Bio.PDB.PDBParser()\n",
    "            structure = pdb_parser.get_structure('PDB', os.path.join(path,onefile))\n",
    "            model = structure[0]\n",
    "            try:\n",
    "                dssp_results = Bio.PDB.DSSP(model, os.path.join(path,onefile), dssp=dssp_exec)\n",
    "\n",
    "                Uni = MDAnalysis.Universe(os.path.join(path,onefile))\n",
    "                protein = Uni.select_atoms(\"protein\")\n",
    "                protein_chain = np.unique(protein.segids)[0]\n",
    "\n",
    "                chain_ID_resid_list = dssp_results.keys()\n",
    "                dssp_results_table = pd.DataFrame(list(dssp_results))\n",
    "                dssp_results_table = dssp_results_table[[0,1,2,3,4,5]]\n",
    "                dssp_results_table.columns = ['DSSP Index', 'Residue Type', 'SS', 'Acc', 'Phi', 'Psi']\n",
    "                dssp_results_table.index = pd.MultiIndex.from_tuples([(chain_ID_resid_list[x][0], chain_ID_resid_list[x][1][1]) for x in range(len(chain_ID_resid_list))])\n",
    "                dssp_results_table = dssp_results_table.reindex()\n",
    "\n",
    "                # Make sure all helices have negative phi and psi angles, otherwise change them to '-'\n",
    "                helix_only_rows = (dssp_results_table['SS'] == 'H')\n",
    "                helix_only_table = dssp_results_table[helix_only_rows]\n",
    "                first_chain_helix_only = helix_only_table.loc[protein_chain,:]\n",
    "                pos_phi_or_psi_idx = first_chain_helix_only[(first_chain_helix_only['Phi'] >= 0).values + (first_chain_helix_only['Psi'] >= 0).values].index.tolist()\n",
    "                dssp_results_table.loc[idx[protein_chain,pos_phi_or_psi_idx], 'SS'] = '-'\n",
    "                with open(os.path.join(path_csv,onefile[:-4]+'_dssp.csv'), 'wb') as output_file:\n",
    "                    output_file_csv = csv.writer(output_file)\n",
    "                    for i in range(len(dssp_results_table['SS'])):\n",
    "                        if dssp_results_table['SS'][i] == 'H' or dssp_results_table['SS'][i] == 'I' or dssp_results_table['SS'][i] == 'G':\n",
    "                            output_file_csv.writerow([dssp_results_table[\"DSSP Index\"][i],0.5])\n",
    "                        elif dssp_results_table['SS'][i] == 'T' or dssp_results_table['SS'][i] == 'S':\n",
    "                            output_file_csv.writerow([dssp_results_table[\"DSSP Index\"][i],1])\n",
    "                        elif dssp_results_table['SS'][i] == 'B' or dssp_results_table['SS'][i] == 'E':\n",
    "                            output_file_csv.writerow([dssp_results_table[\"DSSP Index\"][i],0])\n",
    "                        else:\n",
    "                            output_file_csv.writerow([dssp_results_table[\"DSSP Index\"][i],0])\n",
    "            except:\n",
    "                record_file.write('{0} \\n'.format(onefile[0:4]))"
   ]
  },
  {
   "cell_type": "code",
   "execution_count": 7,
   "metadata": {
    "collapsed": false
   },
   "outputs": [
    {
     "data": {
      "text/plain": [
       "'1ian'"
      ]
     },
     "execution_count": 7,
     "metadata": {},
     "output_type": "execute_result"
    }
   ],
   "source": [
    "onefile[0:4]"
   ]
  },
  {
   "cell_type": "code",
   "execution_count": 6,
   "metadata": {
    "collapsed": true
   },
   "outputs": [],
   "source": [
    "import os\n",
    "import csv\n",
    "import MDAnalysis\n",
    "import subprocess\n",
    "import Bio.PDB\n",
    "import pandas as pd\n",
    "import numpy as np\n",
    "import MDAnalysis.analysis.hbonds\n",
    "path = '/mnt/Tsunami_HHD/Tang/residTOinternal_pdb'\n",
    "path_csv = '/mnt/Tsunami_HHD/Tang/residTOinternal_pdb/dssp/csv'\n",
    "#path = '/home/tongwade780/test_20_datas/test_internal_pdb/residTOinternal_pdb/'\n",
    "#path_csv = '/home/tongwade780/test_20_datas/test_internal_pdb/residTOinternal_pdb/dssp/csv'\n",
    "dssp_exec ='/opt/dssp/dssp'\n",
    "files = os.listdir(path)\n",
    "onefile = '2lzh.pdb'\n"
   ]
  },
  {
   "cell_type": "code",
   "execution_count": 8,
   "metadata": {
    "collapsed": true
   },
   "outputs": [],
   "source": [
    "idx = pd.IndexSlice\n",
    "        \n",
    "# Use DSSP to assign secondary structure type to each residue.\n",
    "pdb_parser = Bio.PDB.PDBParser()\n",
    "structure = pdb_parser.get_structure('PDB', os.path.join(path,onefile))\n",
    "model = structure[0]"
   ]
  },
  {
   "cell_type": "code",
   "execution_count": 9,
   "metadata": {
    "collapsed": false
   },
   "outputs": [
    {
     "ename": "Exception",
     "evalue": "DSSP failed to produce an output",
     "output_type": "error",
     "traceback": [
      "\u001b[1;31m---------------------------------------------------------------------------\u001b[0m",
      "\u001b[1;31mException\u001b[0m                                 Traceback (most recent call last)",
      "\u001b[1;32m<ipython-input-9-9e91654a6114>\u001b[0m in \u001b[0;36m<module>\u001b[1;34m()\u001b[0m\n\u001b[1;32m----> 1\u001b[1;33m \u001b[0mdssp_results\u001b[0m \u001b[1;33m=\u001b[0m \u001b[0mBio\u001b[0m\u001b[1;33m.\u001b[0m\u001b[0mPDB\u001b[0m\u001b[1;33m.\u001b[0m\u001b[0mDSSP\u001b[0m\u001b[1;33m(\u001b[0m\u001b[0mmodel\u001b[0m\u001b[1;33m,\u001b[0m \u001b[0mos\u001b[0m\u001b[1;33m.\u001b[0m\u001b[0mpath\u001b[0m\u001b[1;33m.\u001b[0m\u001b[0mjoin\u001b[0m\u001b[1;33m(\u001b[0m\u001b[0mpath\u001b[0m\u001b[1;33m,\u001b[0m\u001b[0monefile\u001b[0m\u001b[1;33m)\u001b[0m\u001b[1;33m,\u001b[0m \u001b[0mdssp\u001b[0m\u001b[1;33m=\u001b[0m\u001b[0mdssp_exec\u001b[0m\u001b[1;33m)\u001b[0m\u001b[1;33m\u001b[0m\u001b[0m\n\u001b[0m",
      "\u001b[1;32m/usr/local/anaconda/lib/python2.7/site-packages/Bio/PDB/DSSP.pyc\u001b[0m in \u001b[0;36m__init__\u001b[1;34m(self, model, in_file, dssp, acc_array, file_type)\u001b[0m\n\u001b[0;32m    294\u001b[0m         \u001b[1;31m# If the input file is a PDB file run DSSP and parse output:\u001b[0m\u001b[1;33m\u001b[0m\u001b[1;33m\u001b[0m\u001b[0m\n\u001b[0;32m    295\u001b[0m         \u001b[1;32mif\u001b[0m \u001b[0mfile_type\u001b[0m \u001b[1;33m==\u001b[0m \u001b[1;34m'PDB'\u001b[0m\u001b[1;33m:\u001b[0m\u001b[1;33m\u001b[0m\u001b[0m\n\u001b[1;32m--> 296\u001b[1;33m             \u001b[0mdssp_dict\u001b[0m\u001b[1;33m,\u001b[0m \u001b[0mdssp_keys\u001b[0m \u001b[1;33m=\u001b[0m \u001b[0mdssp_dict_from_pdb_file\u001b[0m\u001b[1;33m(\u001b[0m\u001b[0min_file\u001b[0m\u001b[1;33m,\u001b[0m \u001b[0mdssp\u001b[0m\u001b[1;33m)\u001b[0m\u001b[1;33m\u001b[0m\u001b[0m\n\u001b[0m\u001b[0;32m    297\u001b[0m         \u001b[1;31m# If the input file is a DSSP file just parse it directly:\u001b[0m\u001b[1;33m\u001b[0m\u001b[1;33m\u001b[0m\u001b[0m\n\u001b[0;32m    298\u001b[0m         \u001b[1;32melif\u001b[0m \u001b[0mfile_type\u001b[0m \u001b[1;33m==\u001b[0m \u001b[1;34m'DSSP'\u001b[0m\u001b[1;33m:\u001b[0m\u001b[1;33m\u001b[0m\u001b[0m\n",
      "\u001b[1;32m/usr/local/anaconda/lib/python2.7/site-packages/Bio/PDB/DSSP.pyc\u001b[0m in \u001b[0;36mdssp_dict_from_pdb_file\u001b[1;34m(in_file, DSSP)\u001b[0m\n\u001b[0;32m    137\u001b[0m         \u001b[0mwarnings\u001b[0m\u001b[1;33m.\u001b[0m\u001b[0mwarn\u001b[0m\u001b[1;33m(\u001b[0m\u001b[0merr\u001b[0m\u001b[1;33m)\u001b[0m\u001b[1;33m\u001b[0m\u001b[0m\n\u001b[0;32m    138\u001b[0m         \u001b[1;32mif\u001b[0m \u001b[1;32mnot\u001b[0m \u001b[0mout\u001b[0m\u001b[1;33m.\u001b[0m\u001b[0mstrip\u001b[0m\u001b[1;33m(\u001b[0m\u001b[1;33m)\u001b[0m\u001b[1;33m:\u001b[0m\u001b[1;33m\u001b[0m\u001b[0m\n\u001b[1;32m--> 139\u001b[1;33m             \u001b[1;32mraise\u001b[0m \u001b[0mException\u001b[0m\u001b[1;33m(\u001b[0m\u001b[1;34m'DSSP failed to produce an output'\u001b[0m\u001b[1;33m)\u001b[0m\u001b[1;33m\u001b[0m\u001b[0m\n\u001b[0m\u001b[0;32m    140\u001b[0m \u001b[1;33m\u001b[0m\u001b[0m\n\u001b[0;32m    141\u001b[0m     \u001b[0mout_dict\u001b[0m\u001b[1;33m,\u001b[0m \u001b[0mkeys\u001b[0m \u001b[1;33m=\u001b[0m \u001b[0m_make_dssp_dict\u001b[0m\u001b[1;33m(\u001b[0m\u001b[0mStringIO\u001b[0m\u001b[1;33m(\u001b[0m\u001b[0mout\u001b[0m\u001b[1;33m)\u001b[0m\u001b[1;33m)\u001b[0m\u001b[1;33m\u001b[0m\u001b[0m\n",
      "\u001b[1;31mException\u001b[0m: DSSP failed to produce an output"
     ]
    }
   ],
   "source": [
    "dssp_results = Bio.PDB.DSSP(model, os.path.join(path,onefile), dssp=dssp_exec)"
   ]
  }
 ],
 "metadata": {
  "kernelspec": {
   "display_name": "Python 2",
   "language": "python",
   "name": "python2"
  },
  "language_info": {
   "codemirror_mode": {
    "name": "ipython",
    "version": 2
   },
   "file_extension": ".py",
   "mimetype": "text/x-python",
   "name": "python",
   "nbconvert_exporter": "python",
   "pygments_lexer": "ipython2",
   "version": "2.7.11"
  }
 },
 "nbformat": 4,
 "nbformat_minor": 0
}
