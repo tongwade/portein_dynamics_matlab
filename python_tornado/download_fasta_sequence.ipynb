{
 "cells": [
  {
   "cell_type": "code",
   "execution_count": 9,
   "metadata": {
    "collapsed": false
   },
   "outputs": [],
   "source": [
    "import urllib2 as ur\n",
    "pdbname = ['5ctl','1kh8','2xjx','1ufp','1ymb','4rvr','3dn0','1xr1','4hy8','4n1m','2qu9','1c7p','1q21','4gr3']\n",
    "for i in pdbname:\n",
    "    fasta_seq_web = ur.urlopen('http://www.rcsb.org/pdb/download/viewFastaFiles.do?structureIdList={0}&compressionType=uncompressed'.format(i))\n",
    "    seq = fasta_seq_web.read()\n",
    "    with open('/home/tongwade780/pdb_website/onebyone_cluster_code/test_seq_alin/{0}.fasta.txt'.format(i),'w') as p :\n",
    "        p.write(seq)"
   ]
  },
  {
   "cell_type": "code",
   "execution_count": 12,
   "metadata": {
    "collapsed": true
   },
   "outputs": [],
   "source": [
    "import os\n",
    "pdb_file = open('/home/tongwade780/pdb_website/onebyone_cluster_code/representative_pdbname.csv').readlines ()\n",
    "\n",
    "name = []\n",
    "for line in pdb_file:\n",
    "    name.append(line.rstrip('\\r\\n').split(','))"
   ]
  },
  {
   "cell_type": "code",
   "execution_count": 26,
   "metadata": {
    "collapsed": false
   },
   "outputs": [],
   "source": [
    "import urllib2 as ur\n",
    "for i in name:\n",
    "    pdbname = i[0][0:4].lower()\n",
    "    fasta_seq_web = ur.urlopen('http://www.rcsb.org/pdb/download/viewFastaFiles.do?structureIdList={0}&compressionType=uncompressed'.format(pdbname))\n",
    "    seq = fasta_seq_web.read()\n",
    "    with open('/home/tongwade780/pdb_website/onebyone_cluster_code/representative_fasta_sequence/{0}.fasta.txt'.format(pdbname),'w') as p :\n",
    "        p.write(seq)"
   ]
  },
  {
   "cell_type": "code",
   "execution_count": 14,
   "metadata": {
    "collapsed": true
   },
   "outputs": [],
   "source": [
    "i = name[0]"
   ]
  },
  {
   "cell_type": "code",
   "execution_count": 24,
   "metadata": {
    "collapsed": false
   },
   "outputs": [
    {
     "data": {
      "text/plain": [
       "'3pww'"
      ]
     },
     "execution_count": 24,
     "metadata": {},
     "output_type": "execute_result"
    }
   ],
   "source": [
    "i[0][0:4].lower()"
   ]
  }
 ],
 "metadata": {
  "kernelspec": {
   "display_name": "Python 2",
   "language": "python",
   "name": "python2"
  },
  "language_info": {
   "codemirror_mode": {
    "name": "ipython",
    "version": 2
   },
   "file_extension": ".py",
   "mimetype": "text/x-python",
   "name": "python",
   "nbconvert_exporter": "python",
   "pygments_lexer": "ipython2",
   "version": "2.7.11"
  }
 },
 "nbformat": 4,
 "nbformat_minor": 0
}
